{
 "cells": [
  {
   "cell_type": "code",
   "execution_count": 3,
   "metadata": {},
   "outputs": [],
   "source": [
    "from torch_geometric.datasets import QM9\n",
    "from rdkit import Chem\n",
    "from rdkit.Chem import Draw"
   ]
  },
  {
   "cell_type": "code",
   "execution_count": 4,
   "metadata": {},
   "outputs": [
    {
     "name": "stderr",
     "output_type": "stream",
     "text": [
      "Downloading https://deepchemdata.s3-us-west-1.amazonaws.com/datasets/molnet_publish/qm9.zip\n",
      "Extracting data/QM9/raw/qm9.zip\n",
      "Downloading https://ndownloader.figshare.com/files/3195404\n",
      "Processing...\n",
      "100%|██████████| 133885/133885 [00:34<00:00, 3923.24it/s]\n",
      "Done!\n"
     ]
    }
   ],
   "source": [
    "root = 'data/QM9'\n",
    "dataset = QM9(root=root)\n",
    "suppl = Chem.SDMolSupplier(f'{root}/raw/gdb9.sdf')\n",
    "mol_dict = {mol.GetProp('_Name'): mol for mol in suppl if mol is not None}\n",
    "mol_list = [mol for mol in mol_dict.values() if mol is not None]"
   ]
  },
  {
   "cell_type": "code",
   "execution_count": 12,
   "metadata": {},
   "outputs": [
    {
     "name": "stdout",
     "output_type": "stream",
     "text": [
      "primary 7796\n",
      "secondary 23755\n",
      "tertiary 4077\n"
     ]
    }
   ],
   "source": [
    "primary_amine = Chem.MolFromSmarts('[NX3;H2][C]')\n",
    "secondary_amine = Chem.MolFromSmarts('[NX3;H1][C][C]')\n",
    "tertiary_amine = Chem.MolFromSmarts('[NX3;H0][C][C][C]')\n",
    "from collections import Counter\n",
    "counter = Counter()\n",
    "for mol in mol_list:\n",
    "    counter['primary'] += 1 if len(mol.GetSubstructMatches(primary_amine)) > 0 else 0\n",
    "    counter['secondary'] += 1 if len(mol.GetSubstructMatches(secondary_amine)) > 0 else 0\n",
    "    counter['tertiary'] += 1 if len(mol.GetSubstructMatches(tertiary_amine)) > 0 else 0\n",
    "for x in counter:\n",
    "    print(x, counter[x])\n"
   ]
  }
 ],
 "metadata": {
  "kernelspec": {
   "display_name": "Python 3",
   "language": "python",
   "name": "python3"
  },
  "language_info": {
   "codemirror_mode": {
    "name": "ipython",
    "version": 3
   },
   "file_extension": ".py",
   "mimetype": "text/x-python",
   "name": "python",
   "nbconvert_exporter": "python",
   "pygments_lexer": "ipython3",
   "version": "3.12.5"
  }
 },
 "nbformat": 4,
 "nbformat_minor": 2
}
